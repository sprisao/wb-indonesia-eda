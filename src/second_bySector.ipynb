{
 "cells": [
  {
   "cell_type": "code",
   "outputs": [],
   "source": [
    "import pandas as pd\n",
    "import os"
   ],
   "metadata": {
    "collapsed": false,
    "ExecuteTime": {
     "end_time": "2024-01-22T06:41:54.934103Z",
     "start_time": "2024-01-22T06:41:54.686116Z"
    }
   },
   "id": "a1ae47f9774f9a97",
   "execution_count": 1
  },
  {
   "cell_type": "code",
   "outputs": [
    {
     "data": {
      "text/plain": "['By Sectors-By Sectors (World Bank definition) (Nominal Bil. IDR).csv',\n 'By Economic classification-By Economic classification (Nominal Bil. IDR).csv',\n 'By Functions-By Functions (Government of Indonesia  on the effort to be accordance with COFOG definition) (Nominal Bil. IDR).csv']"
     },
     "execution_count": 2,
     "metadata": {},
     "output_type": "execute_result"
    }
   ],
   "source": [
    "data_dir = '../data/csv/original/second/'\n",
    "data_list = os.listdir(data_dir)\n",
    "data_list"
   ],
   "metadata": {
    "collapsed": false,
    "ExecuteTime": {
     "end_time": "2024-01-22T06:41:55.456213Z",
     "start_time": "2024-01-22T06:41:55.448993Z"
    }
   },
   "id": "384877afbd1f9483",
   "execution_count": 2
  },
  {
   "cell_type": "code",
   "outputs": [],
   "source": [
    "sector_df = pd.read_csv(data_dir + data_list[0], header=1,skipinitialspace=True)"
   ],
   "metadata": {
    "collapsed": false,
    "ExecuteTime": {
     "end_time": "2024-01-22T06:41:56.085151Z",
     "start_time": "2024-01-22T06:41:56.061657Z"
    }
   },
   "id": "943f6997999ff19e",
   "execution_count": 3
  },
  {
   "cell_type": "code",
   "outputs": [],
   "source": [
    "sector_df = sector_df.drop(18, axis=0)"
   ],
   "metadata": {
    "collapsed": false,
    "ExecuteTime": {
     "end_time": "2024-01-22T06:41:57.078768Z",
     "start_time": "2024-01-22T06:41:57.075540Z"
    }
   },
   "id": "f9c95dcbd79fdea0",
   "execution_count": 4
  },
  {
   "cell_type": "code",
   "outputs": [
    {
     "data": {
      "text/plain": "   Central (excl. transfers, subsidy and interest payment)+provinces+districts  \\\n0             1_Government General Administration_adj                            \n1                                           2_Defense                            \n2                              3_Public Law and Order                            \n3                                       4_Economy_adj                            \n4                                   5_Environment_adj                            \n5                 6_Housing and Public Facilities_adj                            \n6                                            7_Health                            \n7                           8_Tourism and Culture_adj                            \n8                                 9_Religious Affairs                            \n9                                    10_Education_adj                            \n10                           11_Social Protection_adj                            \n11                                  12_Infrastructure                            \n12                                     13_Agriculture                            \n13             No Function nor Subfunction and others                            \n14        Total (excl.  subsidy and interest payment)                            \n15                                          Subsidies                            \n16                                  Interest payments                            \n17         Total (incl. subsidy and interest payment)                            \n19    Transfers (from Central to sub-national levels)                            \n\n         2011       2012       2013       2014       2015       2016  \\\n0     290,024    350,899    411,389    428,263    480,714    336,019   \n1      51,121     61,227     87,510     86,113    105,907     98,249   \n2      49,863     53,504     66,872     72,162     91,505    126,687   \n3      26,296     31,755     38,296     36,343     49,571     47,255   \n4      15,540     18,253     24,994     25,177     25,629     31,298   \n5      22,985     27,213     34,073     30,566     18,450     34,958   \n6      70,910     81,894     99,390    113,769    149,046    199,321   \n7       8,745      7,193      7,860      9,346      9,345     12,074   \n8       3,166      3,420      3,873      4,002      5,098      8,463   \n9     258,988    284,181    318,821    335,701    381,169    367,543   \n10      8,996     11,181     24,979     21,673     30,157    126,627   \n11    140,729    167,323    206,393    209,004    281,155    290,103   \n12     36,426     44,118     50,414     47,608     66,824     66,863   \n13          -        319         77       (28)         79          -   \n14    983,788  1,142,480  1,374,941  1,419,698  1,694,649  1,745,460   \n15    295,358    346,420    355,045    391,963    185,971    174,227   \n16     93,262    100,516    113,035    133,441    156,010    182,761   \n17  1,372,408  1,589,416  1,843,022  1,945,102  2,036,630  2,102,448   \n19    411,325    480,645    513,260    573,703    623,140    710,257   \n\n         2017       2018  \n0     317,175    351,073  \n1     117,507    106,832  \n2     152,656    164,049  \n3      48,137     47,906  \n4     167,043    176,667  \n5      46,290     51,498  \n6     213,421    228,748  \n7      22,125     28,453  \n8       8,870      9,379  \n9     424,715    446,518  \n10    139,158    182,698  \n11    159,876    154,702  \n12     62,402     65,459  \n13          0          -  \n14  1,879,373  2,013,980  \n15    166,401    216,883  \n16    216,568    257,952  \n17  2,262,342  2,488,815  \n19    741,992    757,793  ",
      "text/html": "<div>\n<style scoped>\n    .dataframe tbody tr th:only-of-type {\n        vertical-align: middle;\n    }\n\n    .dataframe tbody tr th {\n        vertical-align: top;\n    }\n\n    .dataframe thead th {\n        text-align: right;\n    }\n</style>\n<table border=\"1\" class=\"dataframe\">\n  <thead>\n    <tr style=\"text-align: right;\">\n      <th></th>\n      <th>Central (excl. transfers, subsidy and interest payment)+provinces+districts</th>\n      <th>2011</th>\n      <th>2012</th>\n      <th>2013</th>\n      <th>2014</th>\n      <th>2015</th>\n      <th>2016</th>\n      <th>2017</th>\n      <th>2018</th>\n    </tr>\n  </thead>\n  <tbody>\n    <tr>\n      <th>0</th>\n      <td>1_Government General Administration_adj</td>\n      <td>290,024</td>\n      <td>350,899</td>\n      <td>411,389</td>\n      <td>428,263</td>\n      <td>480,714</td>\n      <td>336,019</td>\n      <td>317,175</td>\n      <td>351,073</td>\n    </tr>\n    <tr>\n      <th>1</th>\n      <td>2_Defense</td>\n      <td>51,121</td>\n      <td>61,227</td>\n      <td>87,510</td>\n      <td>86,113</td>\n      <td>105,907</td>\n      <td>98,249</td>\n      <td>117,507</td>\n      <td>106,832</td>\n    </tr>\n    <tr>\n      <th>2</th>\n      <td>3_Public Law and Order</td>\n      <td>49,863</td>\n      <td>53,504</td>\n      <td>66,872</td>\n      <td>72,162</td>\n      <td>91,505</td>\n      <td>126,687</td>\n      <td>152,656</td>\n      <td>164,049</td>\n    </tr>\n    <tr>\n      <th>3</th>\n      <td>4_Economy_adj</td>\n      <td>26,296</td>\n      <td>31,755</td>\n      <td>38,296</td>\n      <td>36,343</td>\n      <td>49,571</td>\n      <td>47,255</td>\n      <td>48,137</td>\n      <td>47,906</td>\n    </tr>\n    <tr>\n      <th>4</th>\n      <td>5_Environment_adj</td>\n      <td>15,540</td>\n      <td>18,253</td>\n      <td>24,994</td>\n      <td>25,177</td>\n      <td>25,629</td>\n      <td>31,298</td>\n      <td>167,043</td>\n      <td>176,667</td>\n    </tr>\n    <tr>\n      <th>5</th>\n      <td>6_Housing and Public Facilities_adj</td>\n      <td>22,985</td>\n      <td>27,213</td>\n      <td>34,073</td>\n      <td>30,566</td>\n      <td>18,450</td>\n      <td>34,958</td>\n      <td>46,290</td>\n      <td>51,498</td>\n    </tr>\n    <tr>\n      <th>6</th>\n      <td>7_Health</td>\n      <td>70,910</td>\n      <td>81,894</td>\n      <td>99,390</td>\n      <td>113,769</td>\n      <td>149,046</td>\n      <td>199,321</td>\n      <td>213,421</td>\n      <td>228,748</td>\n    </tr>\n    <tr>\n      <th>7</th>\n      <td>8_Tourism and Culture_adj</td>\n      <td>8,745</td>\n      <td>7,193</td>\n      <td>7,860</td>\n      <td>9,346</td>\n      <td>9,345</td>\n      <td>12,074</td>\n      <td>22,125</td>\n      <td>28,453</td>\n    </tr>\n    <tr>\n      <th>8</th>\n      <td>9_Religious Affairs</td>\n      <td>3,166</td>\n      <td>3,420</td>\n      <td>3,873</td>\n      <td>4,002</td>\n      <td>5,098</td>\n      <td>8,463</td>\n      <td>8,870</td>\n      <td>9,379</td>\n    </tr>\n    <tr>\n      <th>9</th>\n      <td>10_Education_adj</td>\n      <td>258,988</td>\n      <td>284,181</td>\n      <td>318,821</td>\n      <td>335,701</td>\n      <td>381,169</td>\n      <td>367,543</td>\n      <td>424,715</td>\n      <td>446,518</td>\n    </tr>\n    <tr>\n      <th>10</th>\n      <td>11_Social Protection_adj</td>\n      <td>8,996</td>\n      <td>11,181</td>\n      <td>24,979</td>\n      <td>21,673</td>\n      <td>30,157</td>\n      <td>126,627</td>\n      <td>139,158</td>\n      <td>182,698</td>\n    </tr>\n    <tr>\n      <th>11</th>\n      <td>12_Infrastructure</td>\n      <td>140,729</td>\n      <td>167,323</td>\n      <td>206,393</td>\n      <td>209,004</td>\n      <td>281,155</td>\n      <td>290,103</td>\n      <td>159,876</td>\n      <td>154,702</td>\n    </tr>\n    <tr>\n      <th>12</th>\n      <td>13_Agriculture</td>\n      <td>36,426</td>\n      <td>44,118</td>\n      <td>50,414</td>\n      <td>47,608</td>\n      <td>66,824</td>\n      <td>66,863</td>\n      <td>62,402</td>\n      <td>65,459</td>\n    </tr>\n    <tr>\n      <th>13</th>\n      <td>No Function nor Subfunction and others</td>\n      <td>-</td>\n      <td>319</td>\n      <td>77</td>\n      <td>(28)</td>\n      <td>79</td>\n      <td>-</td>\n      <td>0</td>\n      <td>-</td>\n    </tr>\n    <tr>\n      <th>14</th>\n      <td>Total (excl.  subsidy and interest payment)</td>\n      <td>983,788</td>\n      <td>1,142,480</td>\n      <td>1,374,941</td>\n      <td>1,419,698</td>\n      <td>1,694,649</td>\n      <td>1,745,460</td>\n      <td>1,879,373</td>\n      <td>2,013,980</td>\n    </tr>\n    <tr>\n      <th>15</th>\n      <td>Subsidies</td>\n      <td>295,358</td>\n      <td>346,420</td>\n      <td>355,045</td>\n      <td>391,963</td>\n      <td>185,971</td>\n      <td>174,227</td>\n      <td>166,401</td>\n      <td>216,883</td>\n    </tr>\n    <tr>\n      <th>16</th>\n      <td>Interest payments</td>\n      <td>93,262</td>\n      <td>100,516</td>\n      <td>113,035</td>\n      <td>133,441</td>\n      <td>156,010</td>\n      <td>182,761</td>\n      <td>216,568</td>\n      <td>257,952</td>\n    </tr>\n    <tr>\n      <th>17</th>\n      <td>Total (incl. subsidy and interest payment)</td>\n      <td>1,372,408</td>\n      <td>1,589,416</td>\n      <td>1,843,022</td>\n      <td>1,945,102</td>\n      <td>2,036,630</td>\n      <td>2,102,448</td>\n      <td>2,262,342</td>\n      <td>2,488,815</td>\n    </tr>\n    <tr>\n      <th>19</th>\n      <td>Transfers (from Central to sub-national levels)</td>\n      <td>411,325</td>\n      <td>480,645</td>\n      <td>513,260</td>\n      <td>573,703</td>\n      <td>623,140</td>\n      <td>710,257</td>\n      <td>741,992</td>\n      <td>757,793</td>\n    </tr>\n  </tbody>\n</table>\n</div>"
     },
     "execution_count": 5,
     "metadata": {},
     "output_type": "execute_result"
    }
   ],
   "source": [
    "sector_df\n"
   ],
   "metadata": {
    "collapsed": false,
    "ExecuteTime": {
     "end_time": "2024-01-22T06:41:57.540091Z",
     "start_time": "2024-01-22T06:41:57.515785Z"
    }
   },
   "id": "dfc4d04d9a9d1270",
   "execution_count": 5
  },
  {
   "cell_type": "code",
   "outputs": [],
   "source": [
    "sector_df.rename(columns={sector_df.columns[0]:'Year'}, inplace=True)\n",
    "sector_df = sector_df.set_index('Year')"
   ],
   "metadata": {
    "collapsed": false,
    "ExecuteTime": {
     "end_time": "2024-01-22T06:42:09.519347Z",
     "start_time": "2024-01-22T06:42:09.514222Z"
    }
   },
   "id": "4ced7021fd2cb51c",
   "execution_count": 6
  },
  {
   "cell_type": "code",
   "outputs": [
    {
     "data": {
      "text/plain": "                                                      2011       2012  \\\nYear                                                                    \n1_Government General Administration_adj            290,024    350,899   \n2_Defense                                           51,121     61,227   \n3_Public Law and Order                              49,863     53,504   \n4_Economy_adj                                       26,296     31,755   \n5_Environment_adj                                   15,540     18,253   \n6_Housing and Public Facilities_adj                 22,985     27,213   \n7_Health                                            70,910     81,894   \n8_Tourism and Culture_adj                            8,745      7,193   \n9_Religious Affairs                                  3,166      3,420   \n10_Education_adj                                   258,988    284,181   \n11_Social Protection_adj                             8,996     11,181   \n12_Infrastructure                                  140,729    167,323   \n13_Agriculture                                      36,426     44,118   \nNo Function nor Subfunction and others                   -        319   \nTotal (excl.  subsidy and interest payment)        983,788  1,142,480   \nSubsidies                                          295,358    346,420   \nInterest payments                                   93,262    100,516   \nTotal (incl. subsidy and interest payment)       1,372,408  1,589,416   \nTransfers (from Central to sub-national levels)    411,325    480,645   \n\n                                                      2013       2014  \\\nYear                                                                    \n1_Government General Administration_adj            411,389    428,263   \n2_Defense                                           87,510     86,113   \n3_Public Law and Order                              66,872     72,162   \n4_Economy_adj                                       38,296     36,343   \n5_Environment_adj                                   24,994     25,177   \n6_Housing and Public Facilities_adj                 34,073     30,566   \n7_Health                                            99,390    113,769   \n8_Tourism and Culture_adj                            7,860      9,346   \n9_Religious Affairs                                  3,873      4,002   \n10_Education_adj                                   318,821    335,701   \n11_Social Protection_adj                            24,979     21,673   \n12_Infrastructure                                  206,393    209,004   \n13_Agriculture                                      50,414     47,608   \nNo Function nor Subfunction and others                  77       (28)   \nTotal (excl.  subsidy and interest payment)      1,374,941  1,419,698   \nSubsidies                                          355,045    391,963   \nInterest payments                                  113,035    133,441   \nTotal (incl. subsidy and interest payment)       1,843,022  1,945,102   \nTransfers (from Central to sub-national levels)    513,260    573,703   \n\n                                                      2015       2016  \\\nYear                                                                    \n1_Government General Administration_adj            480,714    336,019   \n2_Defense                                          105,907     98,249   \n3_Public Law and Order                              91,505    126,687   \n4_Economy_adj                                       49,571     47,255   \n5_Environment_adj                                   25,629     31,298   \n6_Housing and Public Facilities_adj                 18,450     34,958   \n7_Health                                           149,046    199,321   \n8_Tourism and Culture_adj                            9,345     12,074   \n9_Religious Affairs                                  5,098      8,463   \n10_Education_adj                                   381,169    367,543   \n11_Social Protection_adj                            30,157    126,627   \n12_Infrastructure                                  281,155    290,103   \n13_Agriculture                                      66,824     66,863   \nNo Function nor Subfunction and others                  79          -   \nTotal (excl.  subsidy and interest payment)      1,694,649  1,745,460   \nSubsidies                                          185,971    174,227   \nInterest payments                                  156,010    182,761   \nTotal (incl. subsidy and interest payment)       2,036,630  2,102,448   \nTransfers (from Central to sub-national levels)    623,140    710,257   \n\n                                                      2017       2018  \nYear                                                                   \n1_Government General Administration_adj            317,175    351,073  \n2_Defense                                          117,507    106,832  \n3_Public Law and Order                             152,656    164,049  \n4_Economy_adj                                       48,137     47,906  \n5_Environment_adj                                  167,043    176,667  \n6_Housing and Public Facilities_adj                 46,290     51,498  \n7_Health                                           213,421    228,748  \n8_Tourism and Culture_adj                           22,125     28,453  \n9_Religious Affairs                                  8,870      9,379  \n10_Education_adj                                   424,715    446,518  \n11_Social Protection_adj                           139,158    182,698  \n12_Infrastructure                                  159,876    154,702  \n13_Agriculture                                      62,402     65,459  \nNo Function nor Subfunction and others                   0          -  \nTotal (excl.  subsidy and interest payment)      1,879,373  2,013,980  \nSubsidies                                          166,401    216,883  \nInterest payments                                  216,568    257,952  \nTotal (incl. subsidy and interest payment)       2,262,342  2,488,815  \nTransfers (from Central to sub-national levels)    741,992    757,793  ",
      "text/html": "<div>\n<style scoped>\n    .dataframe tbody tr th:only-of-type {\n        vertical-align: middle;\n    }\n\n    .dataframe tbody tr th {\n        vertical-align: top;\n    }\n\n    .dataframe thead th {\n        text-align: right;\n    }\n</style>\n<table border=\"1\" class=\"dataframe\">\n  <thead>\n    <tr style=\"text-align: right;\">\n      <th></th>\n      <th>2011</th>\n      <th>2012</th>\n      <th>2013</th>\n      <th>2014</th>\n      <th>2015</th>\n      <th>2016</th>\n      <th>2017</th>\n      <th>2018</th>\n    </tr>\n    <tr>\n      <th>Year</th>\n      <th></th>\n      <th></th>\n      <th></th>\n      <th></th>\n      <th></th>\n      <th></th>\n      <th></th>\n      <th></th>\n    </tr>\n  </thead>\n  <tbody>\n    <tr>\n      <th>1_Government General Administration_adj</th>\n      <td>290,024</td>\n      <td>350,899</td>\n      <td>411,389</td>\n      <td>428,263</td>\n      <td>480,714</td>\n      <td>336,019</td>\n      <td>317,175</td>\n      <td>351,073</td>\n    </tr>\n    <tr>\n      <th>2_Defense</th>\n      <td>51,121</td>\n      <td>61,227</td>\n      <td>87,510</td>\n      <td>86,113</td>\n      <td>105,907</td>\n      <td>98,249</td>\n      <td>117,507</td>\n      <td>106,832</td>\n    </tr>\n    <tr>\n      <th>3_Public Law and Order</th>\n      <td>49,863</td>\n      <td>53,504</td>\n      <td>66,872</td>\n      <td>72,162</td>\n      <td>91,505</td>\n      <td>126,687</td>\n      <td>152,656</td>\n      <td>164,049</td>\n    </tr>\n    <tr>\n      <th>4_Economy_adj</th>\n      <td>26,296</td>\n      <td>31,755</td>\n      <td>38,296</td>\n      <td>36,343</td>\n      <td>49,571</td>\n      <td>47,255</td>\n      <td>48,137</td>\n      <td>47,906</td>\n    </tr>\n    <tr>\n      <th>5_Environment_adj</th>\n      <td>15,540</td>\n      <td>18,253</td>\n      <td>24,994</td>\n      <td>25,177</td>\n      <td>25,629</td>\n      <td>31,298</td>\n      <td>167,043</td>\n      <td>176,667</td>\n    </tr>\n    <tr>\n      <th>6_Housing and Public Facilities_adj</th>\n      <td>22,985</td>\n      <td>27,213</td>\n      <td>34,073</td>\n      <td>30,566</td>\n      <td>18,450</td>\n      <td>34,958</td>\n      <td>46,290</td>\n      <td>51,498</td>\n    </tr>\n    <tr>\n      <th>7_Health</th>\n      <td>70,910</td>\n      <td>81,894</td>\n      <td>99,390</td>\n      <td>113,769</td>\n      <td>149,046</td>\n      <td>199,321</td>\n      <td>213,421</td>\n      <td>228,748</td>\n    </tr>\n    <tr>\n      <th>8_Tourism and Culture_adj</th>\n      <td>8,745</td>\n      <td>7,193</td>\n      <td>7,860</td>\n      <td>9,346</td>\n      <td>9,345</td>\n      <td>12,074</td>\n      <td>22,125</td>\n      <td>28,453</td>\n    </tr>\n    <tr>\n      <th>9_Religious Affairs</th>\n      <td>3,166</td>\n      <td>3,420</td>\n      <td>3,873</td>\n      <td>4,002</td>\n      <td>5,098</td>\n      <td>8,463</td>\n      <td>8,870</td>\n      <td>9,379</td>\n    </tr>\n    <tr>\n      <th>10_Education_adj</th>\n      <td>258,988</td>\n      <td>284,181</td>\n      <td>318,821</td>\n      <td>335,701</td>\n      <td>381,169</td>\n      <td>367,543</td>\n      <td>424,715</td>\n      <td>446,518</td>\n    </tr>\n    <tr>\n      <th>11_Social Protection_adj</th>\n      <td>8,996</td>\n      <td>11,181</td>\n      <td>24,979</td>\n      <td>21,673</td>\n      <td>30,157</td>\n      <td>126,627</td>\n      <td>139,158</td>\n      <td>182,698</td>\n    </tr>\n    <tr>\n      <th>12_Infrastructure</th>\n      <td>140,729</td>\n      <td>167,323</td>\n      <td>206,393</td>\n      <td>209,004</td>\n      <td>281,155</td>\n      <td>290,103</td>\n      <td>159,876</td>\n      <td>154,702</td>\n    </tr>\n    <tr>\n      <th>13_Agriculture</th>\n      <td>36,426</td>\n      <td>44,118</td>\n      <td>50,414</td>\n      <td>47,608</td>\n      <td>66,824</td>\n      <td>66,863</td>\n      <td>62,402</td>\n      <td>65,459</td>\n    </tr>\n    <tr>\n      <th>No Function nor Subfunction and others</th>\n      <td>-</td>\n      <td>319</td>\n      <td>77</td>\n      <td>(28)</td>\n      <td>79</td>\n      <td>-</td>\n      <td>0</td>\n      <td>-</td>\n    </tr>\n    <tr>\n      <th>Total (excl.  subsidy and interest payment)</th>\n      <td>983,788</td>\n      <td>1,142,480</td>\n      <td>1,374,941</td>\n      <td>1,419,698</td>\n      <td>1,694,649</td>\n      <td>1,745,460</td>\n      <td>1,879,373</td>\n      <td>2,013,980</td>\n    </tr>\n    <tr>\n      <th>Subsidies</th>\n      <td>295,358</td>\n      <td>346,420</td>\n      <td>355,045</td>\n      <td>391,963</td>\n      <td>185,971</td>\n      <td>174,227</td>\n      <td>166,401</td>\n      <td>216,883</td>\n    </tr>\n    <tr>\n      <th>Interest payments</th>\n      <td>93,262</td>\n      <td>100,516</td>\n      <td>113,035</td>\n      <td>133,441</td>\n      <td>156,010</td>\n      <td>182,761</td>\n      <td>216,568</td>\n      <td>257,952</td>\n    </tr>\n    <tr>\n      <th>Total (incl. subsidy and interest payment)</th>\n      <td>1,372,408</td>\n      <td>1,589,416</td>\n      <td>1,843,022</td>\n      <td>1,945,102</td>\n      <td>2,036,630</td>\n      <td>2,102,448</td>\n      <td>2,262,342</td>\n      <td>2,488,815</td>\n    </tr>\n    <tr>\n      <th>Transfers (from Central to sub-national levels)</th>\n      <td>411,325</td>\n      <td>480,645</td>\n      <td>513,260</td>\n      <td>573,703</td>\n      <td>623,140</td>\n      <td>710,257</td>\n      <td>741,992</td>\n      <td>757,793</td>\n    </tr>\n  </tbody>\n</table>\n</div>"
     },
     "execution_count": 7,
     "metadata": {},
     "output_type": "execute_result"
    }
   ],
   "source": [
    "sector_df"
   ],
   "metadata": {
    "collapsed": false,
    "ExecuteTime": {
     "end_time": "2024-01-22T06:42:11.006693Z",
     "start_time": "2024-01-22T06:42:11.000529Z"
    }
   },
   "id": "ed194a6e48a106ef",
   "execution_count": 7
  },
  {
   "cell_type": "code",
   "outputs": [],
   "source": [
    "sector_df = sector_df.transpose()"
   ],
   "metadata": {
    "collapsed": false,
    "ExecuteTime": {
     "end_time": "2024-01-22T06:42:16.080221Z",
     "start_time": "2024-01-22T06:42:16.075094Z"
    }
   },
   "id": "6e7c89ac2e0633a4",
   "execution_count": 8
  },
  {
   "cell_type": "code",
   "outputs": [
    {
     "data": {
      "text/plain": "Year 1_Government General Administration_adj 2_Defense 3_Public Law and Order  \\\n2011                                 290,024    51,121                 49,863   \n2012                                 350,899    61,227                 53,504   \n2013                                 411,389    87,510                 66,872   \n2014                                 428,263    86,113                 72,162   \n2015                                 480,714   105,907                 91,505   \n2016                                 336,019    98,249                126,687   \n2017                                 317,175   117,507                152,656   \n2018                                 351,073   106,832                164,049   \n\nYear 4_Economy_adj 5_Environment_adj 6_Housing and Public Facilities_adj  \\\n2011        26,296            15,540                              22,985   \n2012        31,755            18,253                              27,213   \n2013        38,296            24,994                              34,073   \n2014        36,343            25,177                              30,566   \n2015        49,571            25,629                              18,450   \n2016        47,255            31,298                              34,958   \n2017        48,137           167,043                              46,290   \n2018        47,906           176,667                              51,498   \n\nYear 7_Health 8_Tourism and Culture_adj 9_Religious Affairs 10_Education_adj  \\\n2011   70,910                     8,745               3,166          258,988   \n2012   81,894                     7,193               3,420          284,181   \n2013   99,390                     7,860               3,873          318,821   \n2014  113,769                     9,346               4,002          335,701   \n2015  149,046                     9,345               5,098          381,169   \n2016  199,321                    12,074               8,463          367,543   \n2017  213,421                    22,125               8,870          424,715   \n2018  228,748                    28,453               9,379          446,518   \n\nYear 11_Social Protection_adj 12_Infrastructure 13_Agriculture  \\\n2011                    8,996           140,729         36,426   \n2012                   11,181           167,323         44,118   \n2013                   24,979           206,393         50,414   \n2014                   21,673           209,004         47,608   \n2015                   30,157           281,155         66,824   \n2016                  126,627           290,103         66,863   \n2017                  139,158           159,876         62,402   \n2018                  182,698           154,702         65,459   \n\nYear No Function nor Subfunction and others  \\\n2011                                      -   \n2012                                    319   \n2013                                     77   \n2014                                   (28)   \n2015                                     79   \n2016                                      -   \n2017                                      0   \n2018                                      -   \n\nYear Total (excl.  subsidy and interest payment) Subsidies Interest payments  \\\n2011                                     983,788   295,358            93,262   \n2012                                   1,142,480   346,420           100,516   \n2013                                   1,374,941   355,045           113,035   \n2014                                   1,419,698   391,963           133,441   \n2015                                   1,694,649   185,971           156,010   \n2016                                   1,745,460   174,227           182,761   \n2017                                   1,879,373   166,401           216,568   \n2018                                   2,013,980   216,883           257,952   \n\nYear Total (incl. subsidy and interest payment)  \\\n2011                                  1,372,408   \n2012                                  1,589,416   \n2013                                  1,843,022   \n2014                                  1,945,102   \n2015                                  2,036,630   \n2016                                  2,102,448   \n2017                                  2,262,342   \n2018                                  2,488,815   \n\nYear Transfers (from Central to sub-national levels)  \n2011                                         411,325  \n2012                                         480,645  \n2013                                         513,260  \n2014                                         573,703  \n2015                                         623,140  \n2016                                         710,257  \n2017                                         741,992  \n2018                                         757,793  ",
      "text/html": "<div>\n<style scoped>\n    .dataframe tbody tr th:only-of-type {\n        vertical-align: middle;\n    }\n\n    .dataframe tbody tr th {\n        vertical-align: top;\n    }\n\n    .dataframe thead th {\n        text-align: right;\n    }\n</style>\n<table border=\"1\" class=\"dataframe\">\n  <thead>\n    <tr style=\"text-align: right;\">\n      <th>Year</th>\n      <th>1_Government General Administration_adj</th>\n      <th>2_Defense</th>\n      <th>3_Public Law and Order</th>\n      <th>4_Economy_adj</th>\n      <th>5_Environment_adj</th>\n      <th>6_Housing and Public Facilities_adj</th>\n      <th>7_Health</th>\n      <th>8_Tourism and Culture_adj</th>\n      <th>9_Religious Affairs</th>\n      <th>10_Education_adj</th>\n      <th>11_Social Protection_adj</th>\n      <th>12_Infrastructure</th>\n      <th>13_Agriculture</th>\n      <th>No Function nor Subfunction and others</th>\n      <th>Total (excl.  subsidy and interest payment)</th>\n      <th>Subsidies</th>\n      <th>Interest payments</th>\n      <th>Total (incl. subsidy and interest payment)</th>\n      <th>Transfers (from Central to sub-national levels)</th>\n    </tr>\n  </thead>\n  <tbody>\n    <tr>\n      <th>2011</th>\n      <td>290,024</td>\n      <td>51,121</td>\n      <td>49,863</td>\n      <td>26,296</td>\n      <td>15,540</td>\n      <td>22,985</td>\n      <td>70,910</td>\n      <td>8,745</td>\n      <td>3,166</td>\n      <td>258,988</td>\n      <td>8,996</td>\n      <td>140,729</td>\n      <td>36,426</td>\n      <td>-</td>\n      <td>983,788</td>\n      <td>295,358</td>\n      <td>93,262</td>\n      <td>1,372,408</td>\n      <td>411,325</td>\n    </tr>\n    <tr>\n      <th>2012</th>\n      <td>350,899</td>\n      <td>61,227</td>\n      <td>53,504</td>\n      <td>31,755</td>\n      <td>18,253</td>\n      <td>27,213</td>\n      <td>81,894</td>\n      <td>7,193</td>\n      <td>3,420</td>\n      <td>284,181</td>\n      <td>11,181</td>\n      <td>167,323</td>\n      <td>44,118</td>\n      <td>319</td>\n      <td>1,142,480</td>\n      <td>346,420</td>\n      <td>100,516</td>\n      <td>1,589,416</td>\n      <td>480,645</td>\n    </tr>\n    <tr>\n      <th>2013</th>\n      <td>411,389</td>\n      <td>87,510</td>\n      <td>66,872</td>\n      <td>38,296</td>\n      <td>24,994</td>\n      <td>34,073</td>\n      <td>99,390</td>\n      <td>7,860</td>\n      <td>3,873</td>\n      <td>318,821</td>\n      <td>24,979</td>\n      <td>206,393</td>\n      <td>50,414</td>\n      <td>77</td>\n      <td>1,374,941</td>\n      <td>355,045</td>\n      <td>113,035</td>\n      <td>1,843,022</td>\n      <td>513,260</td>\n    </tr>\n    <tr>\n      <th>2014</th>\n      <td>428,263</td>\n      <td>86,113</td>\n      <td>72,162</td>\n      <td>36,343</td>\n      <td>25,177</td>\n      <td>30,566</td>\n      <td>113,769</td>\n      <td>9,346</td>\n      <td>4,002</td>\n      <td>335,701</td>\n      <td>21,673</td>\n      <td>209,004</td>\n      <td>47,608</td>\n      <td>(28)</td>\n      <td>1,419,698</td>\n      <td>391,963</td>\n      <td>133,441</td>\n      <td>1,945,102</td>\n      <td>573,703</td>\n    </tr>\n    <tr>\n      <th>2015</th>\n      <td>480,714</td>\n      <td>105,907</td>\n      <td>91,505</td>\n      <td>49,571</td>\n      <td>25,629</td>\n      <td>18,450</td>\n      <td>149,046</td>\n      <td>9,345</td>\n      <td>5,098</td>\n      <td>381,169</td>\n      <td>30,157</td>\n      <td>281,155</td>\n      <td>66,824</td>\n      <td>79</td>\n      <td>1,694,649</td>\n      <td>185,971</td>\n      <td>156,010</td>\n      <td>2,036,630</td>\n      <td>623,140</td>\n    </tr>\n    <tr>\n      <th>2016</th>\n      <td>336,019</td>\n      <td>98,249</td>\n      <td>126,687</td>\n      <td>47,255</td>\n      <td>31,298</td>\n      <td>34,958</td>\n      <td>199,321</td>\n      <td>12,074</td>\n      <td>8,463</td>\n      <td>367,543</td>\n      <td>126,627</td>\n      <td>290,103</td>\n      <td>66,863</td>\n      <td>-</td>\n      <td>1,745,460</td>\n      <td>174,227</td>\n      <td>182,761</td>\n      <td>2,102,448</td>\n      <td>710,257</td>\n    </tr>\n    <tr>\n      <th>2017</th>\n      <td>317,175</td>\n      <td>117,507</td>\n      <td>152,656</td>\n      <td>48,137</td>\n      <td>167,043</td>\n      <td>46,290</td>\n      <td>213,421</td>\n      <td>22,125</td>\n      <td>8,870</td>\n      <td>424,715</td>\n      <td>139,158</td>\n      <td>159,876</td>\n      <td>62,402</td>\n      <td>0</td>\n      <td>1,879,373</td>\n      <td>166,401</td>\n      <td>216,568</td>\n      <td>2,262,342</td>\n      <td>741,992</td>\n    </tr>\n    <tr>\n      <th>2018</th>\n      <td>351,073</td>\n      <td>106,832</td>\n      <td>164,049</td>\n      <td>47,906</td>\n      <td>176,667</td>\n      <td>51,498</td>\n      <td>228,748</td>\n      <td>28,453</td>\n      <td>9,379</td>\n      <td>446,518</td>\n      <td>182,698</td>\n      <td>154,702</td>\n      <td>65,459</td>\n      <td>-</td>\n      <td>2,013,980</td>\n      <td>216,883</td>\n      <td>257,952</td>\n      <td>2,488,815</td>\n      <td>757,793</td>\n    </tr>\n  </tbody>\n</table>\n</div>"
     },
     "execution_count": 9,
     "metadata": {},
     "output_type": "execute_result"
    }
   ],
   "source": [
    "sector_df"
   ],
   "metadata": {
    "collapsed": false,
    "ExecuteTime": {
     "end_time": "2024-01-22T06:42:17.394206Z",
     "start_time": "2024-01-22T06:42:17.384137Z"
    }
   },
   "id": "861c4d235d79407",
   "execution_count": 9
  },
  {
   "cell_type": "code",
   "outputs": [],
   "source": [
    "# save as json\n",
    "sector_df.to_json('../data/json/second/second_bySector.json')"
   ],
   "metadata": {
    "collapsed": false
   },
   "id": "4ff68f3baf8964b1",
   "execution_count": null
  }
 ],
 "metadata": {
  "kernelspec": {
   "display_name": "Python 3",
   "language": "python",
   "name": "python3"
  },
  "language_info": {
   "codemirror_mode": {
    "name": "ipython",
    "version": 2
   },
   "file_extension": ".py",
   "mimetype": "text/x-python",
   "name": "python",
   "nbconvert_exporter": "python",
   "pygments_lexer": "ipython2",
   "version": "2.7.6"
  }
 },
 "nbformat": 4,
 "nbformat_minor": 5
}
