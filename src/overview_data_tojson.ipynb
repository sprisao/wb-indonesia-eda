{
 "cells": [
  {
   "cell_type": "code",
   "execution_count": 1,
   "id": "initial_id",
   "metadata": {
    "collapsed": true,
    "ExecuteTime": {
     "end_time": "2024-01-22T01:50:45.628407Z",
     "start_time": "2024-01-22T01:50:45.608232Z"
    }
   },
   "outputs": [],
   "source": [
    "import pandas as pd\n",
    "import numpy as np\n",
    "import matplotlib.pyplot as plt\n",
    "import seaborn as sns\n",
    "import os"
   ]
  },
  {
   "cell_type": "markdown",
   "source": [
    "../data/original/overview 경로에 있는 csv 파일을 읽는다"
   ],
   "metadata": {
    "collapsed": false
   },
   "id": "919d97b81c5b0b2d"
  },
  {
   "cell_type": "code",
   "outputs": [
    {
     "data": {
      "text/plain": "['overview-data-Indonesia - Government Expenditures.csv']"
     },
     "execution_count": 2,
     "metadata": {},
     "output_type": "execute_result"
    }
   ],
   "source": [
    "data_dir = '../data/csv/original/overview/'\n",
    "data_list = os.listdir(data_dir)\n",
    "data_list\n"
   ],
   "metadata": {
    "collapsed": false,
    "ExecuteTime": {
     "end_time": "2024-01-22T01:50:45.657022Z",
     "start_time": "2024-01-22T01:50:45.630474Z"
    }
   },
   "id": "f92cc2034ee1a5f6",
   "execution_count": 2
  },
  {
   "cell_type": "code",
   "outputs": [
    {
     "data": {
      "text/plain": "                     Unnamed: 0       2010       2011       2012       2013  \\\n0        govExpenditure_IDR_Bil  1,042,117  1,294,999  1,491,410  1,650,563   \n1  govExpenditure_PercentChange      0.000      0.243      0.152      0.107   \n2        GDP_PPP_IntDollars_Bil   2057.206   2229.512   2413.435   2535.041   \n3       govRevenue_PercentOfGDP   15.64411   17.01016   17.24935   16.86442   \n4   govExpenditure_PercentOfGDP   16.88655    17.7137    18.8358   19.08119   \n\n        2014       2015       2016       2017       2018       2019  \\\n0  1,777,182  1,806,515  1,864,275  2,007,351  2,213,117  2,309,287   \n1      0.077      0.017      0.032      0.077      0.103      0.043   \n2   2622.252   2647.707   2744.897   2894.126   3117.058   3332.225   \n3   16.46058   14.87466    14.3375   14.05332   14.89003   14.17487   \n4   18.60625   17.47816   16.82377   16.56238   16.69559   16.33608   \n\n        2020       2021       2022  \n0  2,595,481  2,786,411  3,096,262  \n1      0.124      0.074      0.111  \n2   3305.985   3582.407   4036.852  \n3   12.46125   13.63909    15.1992  \n4   18.55721   18.17911   17.54021  ",
      "text/html": "<div>\n<style scoped>\n    .dataframe tbody tr th:only-of-type {\n        vertical-align: middle;\n    }\n\n    .dataframe tbody tr th {\n        vertical-align: top;\n    }\n\n    .dataframe thead th {\n        text-align: right;\n    }\n</style>\n<table border=\"1\" class=\"dataframe\">\n  <thead>\n    <tr style=\"text-align: right;\">\n      <th></th>\n      <th>Unnamed: 0</th>\n      <th>2010</th>\n      <th>2011</th>\n      <th>2012</th>\n      <th>2013</th>\n      <th>2014</th>\n      <th>2015</th>\n      <th>2016</th>\n      <th>2017</th>\n      <th>2018</th>\n      <th>2019</th>\n      <th>2020</th>\n      <th>2021</th>\n      <th>2022</th>\n    </tr>\n  </thead>\n  <tbody>\n    <tr>\n      <th>0</th>\n      <td>govExpenditure_IDR_Bil</td>\n      <td>1,042,117</td>\n      <td>1,294,999</td>\n      <td>1,491,410</td>\n      <td>1,650,563</td>\n      <td>1,777,182</td>\n      <td>1,806,515</td>\n      <td>1,864,275</td>\n      <td>2,007,351</td>\n      <td>2,213,117</td>\n      <td>2,309,287</td>\n      <td>2,595,481</td>\n      <td>2,786,411</td>\n      <td>3,096,262</td>\n    </tr>\n    <tr>\n      <th>1</th>\n      <td>govExpenditure_PercentChange</td>\n      <td>0.000</td>\n      <td>0.243</td>\n      <td>0.152</td>\n      <td>0.107</td>\n      <td>0.077</td>\n      <td>0.017</td>\n      <td>0.032</td>\n      <td>0.077</td>\n      <td>0.103</td>\n      <td>0.043</td>\n      <td>0.124</td>\n      <td>0.074</td>\n      <td>0.111</td>\n    </tr>\n    <tr>\n      <th>2</th>\n      <td>GDP_PPP_IntDollars_Bil</td>\n      <td>2057.206</td>\n      <td>2229.512</td>\n      <td>2413.435</td>\n      <td>2535.041</td>\n      <td>2622.252</td>\n      <td>2647.707</td>\n      <td>2744.897</td>\n      <td>2894.126</td>\n      <td>3117.058</td>\n      <td>3332.225</td>\n      <td>3305.985</td>\n      <td>3582.407</td>\n      <td>4036.852</td>\n    </tr>\n    <tr>\n      <th>3</th>\n      <td>govRevenue_PercentOfGDP</td>\n      <td>15.64411</td>\n      <td>17.01016</td>\n      <td>17.24935</td>\n      <td>16.86442</td>\n      <td>16.46058</td>\n      <td>14.87466</td>\n      <td>14.3375</td>\n      <td>14.05332</td>\n      <td>14.89003</td>\n      <td>14.17487</td>\n      <td>12.46125</td>\n      <td>13.63909</td>\n      <td>15.1992</td>\n    </tr>\n    <tr>\n      <th>4</th>\n      <td>govExpenditure_PercentOfGDP</td>\n      <td>16.88655</td>\n      <td>17.7137</td>\n      <td>18.8358</td>\n      <td>19.08119</td>\n      <td>18.60625</td>\n      <td>17.47816</td>\n      <td>16.82377</td>\n      <td>16.56238</td>\n      <td>16.69559</td>\n      <td>16.33608</td>\n      <td>18.55721</td>\n      <td>18.17911</td>\n      <td>17.54021</td>\n    </tr>\n  </tbody>\n</table>\n</div>"
     },
     "execution_count": 3,
     "metadata": {},
     "output_type": "execute_result"
    }
   ],
   "source": [
    "data = pd.read_csv(data_dir + data_list[0], header=1,skipinitialspace=True)\n",
    "data.head()"
   ],
   "metadata": {
    "collapsed": false,
    "ExecuteTime": {
     "end_time": "2024-01-22T01:50:45.675906Z",
     "start_time": "2024-01-22T01:50:45.659364Z"
    }
   },
   "id": "258faee0c219196a",
   "execution_count": 3
  },
  {
   "cell_type": "code",
   "outputs": [],
   "source": [
    "data.rename(columns={data.columns[0]:'Year'}, inplace=True)"
   ],
   "metadata": {
    "collapsed": false,
    "ExecuteTime": {
     "end_time": "2024-01-22T01:50:45.685779Z",
     "start_time": "2024-01-22T01:50:45.677625Z"
    }
   },
   "id": "b845fb4824c5feeb",
   "execution_count": 4
  },
  {
   "cell_type": "code",
   "outputs": [
    {
     "data": {
      "text/plain": "                           Year       2010       2011       2012       2013  \\\n0        govExpenditure_IDR_Bil  1,042,117  1,294,999  1,491,410  1,650,563   \n1  govExpenditure_PercentChange      0.000      0.243      0.152      0.107   \n2        GDP_PPP_IntDollars_Bil   2057.206   2229.512   2413.435   2535.041   \n3       govRevenue_PercentOfGDP   15.64411   17.01016   17.24935   16.86442   \n4   govExpenditure_PercentOfGDP   16.88655    17.7137    18.8358   19.08119   \n\n        2014       2015       2016       2017       2018       2019  \\\n0  1,777,182  1,806,515  1,864,275  2,007,351  2,213,117  2,309,287   \n1      0.077      0.017      0.032      0.077      0.103      0.043   \n2   2622.252   2647.707   2744.897   2894.126   3117.058   3332.225   \n3   16.46058   14.87466    14.3375   14.05332   14.89003   14.17487   \n4   18.60625   17.47816   16.82377   16.56238   16.69559   16.33608   \n\n        2020       2021       2022  \n0  2,595,481  2,786,411  3,096,262  \n1      0.124      0.074      0.111  \n2   3305.985   3582.407   4036.852  \n3   12.46125   13.63909    15.1992  \n4   18.55721   18.17911   17.54021  ",
      "text/html": "<div>\n<style scoped>\n    .dataframe tbody tr th:only-of-type {\n        vertical-align: middle;\n    }\n\n    .dataframe tbody tr th {\n        vertical-align: top;\n    }\n\n    .dataframe thead th {\n        text-align: right;\n    }\n</style>\n<table border=\"1\" class=\"dataframe\">\n  <thead>\n    <tr style=\"text-align: right;\">\n      <th></th>\n      <th>Year</th>\n      <th>2010</th>\n      <th>2011</th>\n      <th>2012</th>\n      <th>2013</th>\n      <th>2014</th>\n      <th>2015</th>\n      <th>2016</th>\n      <th>2017</th>\n      <th>2018</th>\n      <th>2019</th>\n      <th>2020</th>\n      <th>2021</th>\n      <th>2022</th>\n    </tr>\n  </thead>\n  <tbody>\n    <tr>\n      <th>0</th>\n      <td>govExpenditure_IDR_Bil</td>\n      <td>1,042,117</td>\n      <td>1,294,999</td>\n      <td>1,491,410</td>\n      <td>1,650,563</td>\n      <td>1,777,182</td>\n      <td>1,806,515</td>\n      <td>1,864,275</td>\n      <td>2,007,351</td>\n      <td>2,213,117</td>\n      <td>2,309,287</td>\n      <td>2,595,481</td>\n      <td>2,786,411</td>\n      <td>3,096,262</td>\n    </tr>\n    <tr>\n      <th>1</th>\n      <td>govExpenditure_PercentChange</td>\n      <td>0.000</td>\n      <td>0.243</td>\n      <td>0.152</td>\n      <td>0.107</td>\n      <td>0.077</td>\n      <td>0.017</td>\n      <td>0.032</td>\n      <td>0.077</td>\n      <td>0.103</td>\n      <td>0.043</td>\n      <td>0.124</td>\n      <td>0.074</td>\n      <td>0.111</td>\n    </tr>\n    <tr>\n      <th>2</th>\n      <td>GDP_PPP_IntDollars_Bil</td>\n      <td>2057.206</td>\n      <td>2229.512</td>\n      <td>2413.435</td>\n      <td>2535.041</td>\n      <td>2622.252</td>\n      <td>2647.707</td>\n      <td>2744.897</td>\n      <td>2894.126</td>\n      <td>3117.058</td>\n      <td>3332.225</td>\n      <td>3305.985</td>\n      <td>3582.407</td>\n      <td>4036.852</td>\n    </tr>\n    <tr>\n      <th>3</th>\n      <td>govRevenue_PercentOfGDP</td>\n      <td>15.64411</td>\n      <td>17.01016</td>\n      <td>17.24935</td>\n      <td>16.86442</td>\n      <td>16.46058</td>\n      <td>14.87466</td>\n      <td>14.3375</td>\n      <td>14.05332</td>\n      <td>14.89003</td>\n      <td>14.17487</td>\n      <td>12.46125</td>\n      <td>13.63909</td>\n      <td>15.1992</td>\n    </tr>\n    <tr>\n      <th>4</th>\n      <td>govExpenditure_PercentOfGDP</td>\n      <td>16.88655</td>\n      <td>17.7137</td>\n      <td>18.8358</td>\n      <td>19.08119</td>\n      <td>18.60625</td>\n      <td>17.47816</td>\n      <td>16.82377</td>\n      <td>16.56238</td>\n      <td>16.69559</td>\n      <td>16.33608</td>\n      <td>18.55721</td>\n      <td>18.17911</td>\n      <td>17.54021</td>\n    </tr>\n  </tbody>\n</table>\n</div>"
     },
     "execution_count": 5,
     "metadata": {},
     "output_type": "execute_result"
    }
   ],
   "source": [
    "data.head()"
   ],
   "metadata": {
    "collapsed": false,
    "ExecuteTime": {
     "end_time": "2024-01-22T01:50:45.694585Z",
     "start_time": "2024-01-22T01:50:45.682418Z"
    }
   },
   "id": "8c9b882bc289cc4d",
   "execution_count": 5
  },
  {
   "cell_type": "code",
   "outputs": [],
   "source": [
    "data = data.T"
   ],
   "metadata": {
    "collapsed": false,
    "ExecuteTime": {
     "end_time": "2024-01-22T01:54:57.473882Z",
     "start_time": "2024-01-22T01:54:57.467343Z"
    }
   },
   "id": "49bd3a63faa043b2",
   "execution_count": 8
  },
  {
   "cell_type": "code",
   "outputs": [
    {
     "data": {
      "text/plain": "Year govExpenditure_IDR_Bil govExpenditure_PercentChange  \\\n2010              1,042,117                        0.000   \n2011              1,294,999                        0.243   \n2012              1,491,410                        0.152   \n2013              1,650,563                        0.107   \n2014              1,777,182                        0.077   \n\nYear GDP_PPP_IntDollars_Bil govRevenue_PercentOfGDP  \\\n2010               2057.206                15.64411   \n2011               2229.512                17.01016   \n2012               2413.435                17.24935   \n2013               2535.041                16.86442   \n2014               2622.252                16.46058   \n\nYear govExpenditure_PercentOfGDP govPrimaryExpenditure_PercentOfGDP  \n2010                    16.88655                           15.59894  \n2011                     17.7137                           16.52288  \n2012                     18.8358                           17.66914  \n2013                    19.08119                           17.89709  \n2014                    18.60625                           17.34376  ",
      "text/html": "<div>\n<style scoped>\n    .dataframe tbody tr th:only-of-type {\n        vertical-align: middle;\n    }\n\n    .dataframe tbody tr th {\n        vertical-align: top;\n    }\n\n    .dataframe thead th {\n        text-align: right;\n    }\n</style>\n<table border=\"1\" class=\"dataframe\">\n  <thead>\n    <tr style=\"text-align: right;\">\n      <th>Year</th>\n      <th>govExpenditure_IDR_Bil</th>\n      <th>govExpenditure_PercentChange</th>\n      <th>GDP_PPP_IntDollars_Bil</th>\n      <th>govRevenue_PercentOfGDP</th>\n      <th>govExpenditure_PercentOfGDP</th>\n      <th>govPrimaryExpenditure_PercentOfGDP</th>\n    </tr>\n  </thead>\n  <tbody>\n    <tr>\n      <th>2010</th>\n      <td>1,042,117</td>\n      <td>0.000</td>\n      <td>2057.206</td>\n      <td>15.64411</td>\n      <td>16.88655</td>\n      <td>15.59894</td>\n    </tr>\n    <tr>\n      <th>2011</th>\n      <td>1,294,999</td>\n      <td>0.243</td>\n      <td>2229.512</td>\n      <td>17.01016</td>\n      <td>17.7137</td>\n      <td>16.52288</td>\n    </tr>\n    <tr>\n      <th>2012</th>\n      <td>1,491,410</td>\n      <td>0.152</td>\n      <td>2413.435</td>\n      <td>17.24935</td>\n      <td>18.8358</td>\n      <td>17.66914</td>\n    </tr>\n    <tr>\n      <th>2013</th>\n      <td>1,650,563</td>\n      <td>0.107</td>\n      <td>2535.041</td>\n      <td>16.86442</td>\n      <td>19.08119</td>\n      <td>17.89709</td>\n    </tr>\n    <tr>\n      <th>2014</th>\n      <td>1,777,182</td>\n      <td>0.077</td>\n      <td>2622.252</td>\n      <td>16.46058</td>\n      <td>18.60625</td>\n      <td>17.34376</td>\n    </tr>\n  </tbody>\n</table>\n</div>"
     },
     "execution_count": 10,
     "metadata": {},
     "output_type": "execute_result"
    }
   ],
   "source": [
    "data.head()"
   ],
   "metadata": {
    "collapsed": false,
    "ExecuteTime": {
     "end_time": "2024-01-22T01:55:27.280718Z",
     "start_time": "2024-01-22T01:55:27.275881Z"
    }
   },
   "id": "b0ecb38d065aa4a3",
   "execution_count": 10
  },
  {
   "cell_type": "code",
   "outputs": [],
   "source": [
    "# export as json\n",
    "data.to_json('../data/json/overview.json', orient='index')"
   ],
   "metadata": {
    "collapsed": false,
    "ExecuteTime": {
     "end_time": "2024-01-22T01:56:17.857935Z",
     "start_time": "2024-01-22T01:56:17.851782Z"
    }
   },
   "id": "aff1a2fa5d652224",
   "execution_count": 11
  }
 ],
 "metadata": {
  "kernelspec": {
   "display_name": "Python 3",
   "language": "python",
   "name": "python3"
  },
  "language_info": {
   "codemirror_mode": {
    "name": "ipython",
    "version": 2
   },
   "file_extension": ".py",
   "mimetype": "text/x-python",
   "name": "python",
   "nbconvert_exporter": "python",
   "pygments_lexer": "ipython2",
   "version": "2.7.6"
  }
 },
 "nbformat": 4,
 "nbformat_minor": 5
}
